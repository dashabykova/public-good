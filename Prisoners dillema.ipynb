{
 "cells": [
  {
   "cell_type": "code",
   "execution_count": 168,
   "metadata": {},
   "outputs": [],
   "source": [
    "import matplotlib.pyplot as plt\n",
    "%matplotlib inline\n",
    "import seaborn as sns\n",
    "import numpy as np"
   ]
  },
  {
   "cell_type": "markdown",
   "metadata": {},
   "source": [
    "The aim is to model the iterative prisoner's dillemma with different strategies and plot the points of each player. Possible strategies:\n",
    "1. always cooperate\n",
    "2. always cheat\n",
    "3. tit for tat (doing what the opponent just did)\n",
    "4. random (50/50)\n",
    "5. grudger: cooperate until the opponent cheats. If the opponent cheats even once, start to always cheat\n",
    "6. money maker: if I have more than -150 (or 50 in \"the more points, the better\" model), cooperate. Otherwise, cheat.\n",
    "7. progressive tax: the probability to cooperate is proportional to my relative well-being.\n",
    "8. ...\n",
    "\n",
    "Something to read: Axelrod's tournament, Nowak's works\n"
   ]
  },
  {
   "cell_type": "code",
   "execution_count": 169,
   "metadata": {},
   "outputs": [],
   "source": [
    "iterations = 100\n",
    "cost_matrix = {('c', 'c'): (-1, -1), ('d', 'd'): (-2, -2), ('c', 'd'): (-3, 0), ('d', 'c'): (0, -3)}"
   ]
  },
  {
   "cell_type": "code",
   "execution_count": 193,
   "metadata": {},
   "outputs": [],
   "source": [
    "class game():\n",
    "    def __init__(self, cost_matrix, iterations, a_strategy, b_strategy):\n",
    "        self.a_points = []\n",
    "        self.b_points = []\n",
    "        self.iterations = iterations\n",
    "        self.current_iter = 0\n",
    "        self.a_strategy = a_strategy\n",
    "        self.b_strategy = b_strategy\n",
    "        self.cost_matrix = cost_matrix\n",
    "        self.a_story = []\n",
    "        self.b_story = []\n",
    "        \n",
    "    def play(self):\n",
    "        a_current, b_current = sum(self.a_points), sum(self.b_points)\n",
    "        a_move = self.decide(self.a_strategy, self.b_story, a_current, b_current)\n",
    "        b_move = self.decide(self.b_strategy, self.a_story, b_current, a_current)\n",
    "        self.a_story.append(a_move)\n",
    "        self.b_story.append(b_move)\n",
    "        return self.cost_matrix[(a_move, b_move)]\n",
    "    \n",
    "    def decide(self, strategy, opponent_story, my_points, opponent_points):\n",
    "        if strategy == 'always cooperate':\n",
    "            return 'c'\n",
    "        elif strategy == 'always cheat':\n",
    "            return 'd'\n",
    "        elif strategy == 'tit for tat':\n",
    "            if self.current_iter == 0:\n",
    "                return 'c'\n",
    "            else:\n",
    "                return opponent_story[-1]\n",
    "        elif strategy == 'random':\n",
    "            if np.random.rand(1)[0] > 0.5:\n",
    "                return 'c'\n",
    "            else:\n",
    "                return 'd'\n",
    "        elif strategy == 'grudger':\n",
    "            if self.current_iter == 0:\n",
    "                return 'c'\n",
    "            elif 'd' in opponent_story:\n",
    "                return 'd'\n",
    "            else:\n",
    "                return 'c'\n",
    "        elif strategy == 'money maker':\n",
    "            if my_points > -150:\n",
    "                return 'c'\n",
    "            else:\n",
    "                return 'd'\n",
    "        elif strategy == 'progressive tax':\n",
    "            prob_to_c = np.tanh(my_points - opponent_points)/2 + 0.5\n",
    "            probs = [prob_to_c, 1 - prob_to_c]\n",
    "            return np.random.choice(['c', 'd'], 1, p=probs)[0]\n",
    "            \n",
    "    def play_tournament(self):\n",
    "        for i in range(self.iterations):\n",
    "            self.current_iter = i\n",
    "            a, b = self.play()\n",
    "            self.a_points.append(a)\n",
    "            self.b_points.append(b)\n",
    "        return self.a_points, self.b_points"
   ]
  },
  {
   "cell_type": "code",
   "execution_count": 254,
   "metadata": {},
   "outputs": [],
   "source": [
    "a_strategy = 'progressive tax'\n",
    "b_strategy = 'random'"
   ]
  },
  {
   "cell_type": "code",
   "execution_count": 255,
   "metadata": {},
   "outputs": [],
   "source": [
    "my_game = game(cost_matrix, iterations, a_strategy, b_strategy)\n",
    "a_points, b_points = my_game.play_tournament()"
   ]
  },
  {
   "cell_type": "code",
   "execution_count": 256,
   "metadata": {},
   "outputs": [
    {
     "data": {
      "image/png": "[encoded data removed]",
      "text/plain": [
       "<Figure size 504x360 with 1 Axes>"
      ]
     },
     "metadata": {
      "needs_background": "light"
     },
     "output_type": "display_data"
    }
   ],
   "source": [
    "fig, ax = plt.subplots(figsize=(7, 5))\n",
    "\n",
    "plt.plot(np.cumsum(a_points), color='red', label=a_strategy, alpha=0.5)\n",
    "plt.plot(np.cumsum(b_points), color='blue', label=b_strategy, alpha=0.5)\n",
    "ax.set_xlabel('iteration')\n",
    "ax.set_ylabel('points')\n",
    "plt.legend()\n",
    "plt.savefig(f'pictures/{a_strategy}_vs_{b_strategy}.png',  bbox_inches='tight', format='png')\n",
    "plt.show()"
   ]
  },
  {
   "cell_type": "code",
   "execution_count": null,
   "metadata": {},
   "outputs": [],
   "source": []
  },
  {
   "cell_type": "markdown",
   "metadata": {},
   "source": [
    "## Let's change the cost matrix "
   ]
  },
  {
   "cell_type": "code",
   "execution_count": 164,
   "metadata": {},
   "outputs": [],
   "source": [
    "cost_matrix = {('c', 'c'): (2, 2), ('d', 'd'): (0, 0), ('c', 'd'): (-1, 3), ('d', 'c'): (3, -1)}"
   ]
  },
  {
   "cell_type": "markdown",
   "metadata": {},
   "source": [
    "Here the more points, the better which is more intuitive."
   ]
  },
  {
   "cell_type": "code",
   "execution_count": 165,
   "metadata": {},
   "outputs": [],
   "source": [
    "a_strategy = 'progressive tax'\n",
    "b_strategy = 'random'"
   ]
  },
  {
   "cell_type": "code",
   "execution_count": 166,
   "metadata": {},
   "outputs": [],
   "source": [
    "my_game = game(cost_matrix, iterations, a_strategy, b_strategy)\n",
    "a_points, b_points = my_game.play_tournament()"
   ]
  },
  {
   "cell_type": "code",
   "execution_count": 167,
   "metadata": {},
   "outputs": [
    {
     "data": {
      "image/png": "[encoded data removed]",
      "text/plain": [
       "<Figure size 504x360 with 1 Axes>"
      ]
     },
     "metadata": {
      "needs_background": "light"
     },
     "output_type": "display_data"
    }
   ],
   "source": [
    "fig, ax = plt.subplots(figsize=(7, 5))\n",
    "\n",
    "plt.plot(np.cumsum(a_points), color='red', label=a_strategy, alpha=0.5)\n",
    "plt.plot(np.cumsum(b_points), color='blue', label=b_strategy, alpha=0.5)\n",
    "ax.set_xlabel('iteration')\n",
    "ax.set_ylabel('points')\n",
    "plt.legend()\n",
    "plt.savefig(f'pictures/{a_strategy}_vs_{b_strategy}_positive_cost.png',  bbox_inches='tight', format='png')\n",
    "plt.show()"
   ]
  },
  {
   "cell_type": "code",
   "execution_count": null,
   "metadata": {},
   "outputs": [],
   "source": []
  }
 ],
 "metadata": {
  "kernelspec": {
   "display_name": "Python 3",
   "language": "python",
   "name": "python3"
  },
  "language_info": {
   "codemirror_mode": {
    "name": "ipython",
    "version": 3
   },
   "file_extension": ".py",
   "mimetype": "text/x-python",
   "name": "python",
   "nbconvert_exporter": "python",
   "pygments_lexer": "ipython3",
   "version": "3.7.4"
  }
 },
 "nbformat": 4,
 "nbformat_minor": 2
}
